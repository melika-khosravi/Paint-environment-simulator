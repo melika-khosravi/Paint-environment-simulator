{
 "cells": [
  {
   "cell_type": "code",
   "execution_count": 5,
   "id": "cd6ba894-ad8d-403f-ab4d-0b58e7237e5e",
   "metadata": {},
   "outputs": [],
   "source": [
    "import numpy as np\n",
    "import cv2\n",
    "\n",
    "\n",
    "\n",
    "def nothing(x):\n",
    "    pass\n",
    "\n",
    "\n",
    "def draw(event,x,y,flags,params):\n",
    "    global ix,iy,drawing\n",
    "    # Left Mouse Button Down Pressed\n",
    "    if event==cv2.EVENT_LBUTTONDOWN:\n",
    "        drawing = True\n",
    "        ix = x\n",
    "        iy = y\n",
    "    if event==cv2.EVENT_MOUSEMOVE:\n",
    "        if drawing==True:\n",
    "            #For Drawing Line\n",
    "            if cv2.getTrackbarPos('switch','image')==0:\n",
    "                drawing==False\n",
    "            else:\n",
    "                cv2.line(img,pt1=(ix,iy),pt2=(x,y),color=(cv2.getTrackbarPos('B','image'),cv2.getTrackbarPos('G','image'),cv2.getTrackbarPos('R','image')),thickness=cv2.getTrackbarPos('size','image'))\n",
    "                ix = x\n",
    "                iy = y\n",
    "    if event==cv2.EVENT_LBUTTONUP:\n",
    "        drawing = False\n",
    "\n",
    "\n",
    "\n",
    "img = np.zeros((600,600,3), np.uint8)\n",
    "cv2.namedWindow('image')\n",
    "# create trackbars for color change\n",
    "cv2.createTrackbar('size','image',0,100,nothing)\n",
    "cv2.createTrackbar('R','image',0,255,nothing)\n",
    "cv2.createTrackbar('G','image',0,255,nothing)\n",
    "cv2.createTrackbar('B','image',0,255,nothing)\n",
    "cv2.createTrackbar('switch','image',0,1,nothing)\n",
    "\n",
    "drawing = False \n",
    "color = (0,255,0)\n",
    "img = np.zeros((600,600,3), np.uint8)\n",
    "cv2.setMouseCallback('image',draw)\n",
    "\n",
    "\n",
    "\n",
    "\n",
    "\n",
    "while True:\n",
    "    cv2.imshow('image',img)\n",
    "    if cv2.waitKey(1) & 0xFF ==27:\n",
    "        break\n",
    "cv2.destroyAllWindows()"
   ]
  }
 ],
 "metadata": {
  "kernelspec": {
   "display_name": "Python 3 (ipykernel)",
   "language": "python",
   "name": "python3"
  },
  "language_info": {
   "codemirror_mode": {
    "name": "ipython",
    "version": 3
   },
   "file_extension": ".py",
   "mimetype": "text/x-python",
   "name": "python",
   "nbconvert_exporter": "python",
   "pygments_lexer": "ipython3",
   "version": "3.12.0"
  }
 },
 "nbformat": 4,
 "nbformat_minor": 5
}
